{
  "nbformat": 4,
  "nbformat_minor": 0,
  "metadata": {
    "colab": {
      "provenance": [],
      "gpuType": "T4"
    },
    "kernelspec": {
      "name": "python3",
      "display_name": "Python 3"
    },
    "language_info": {
      "name": "python"
    },
    "accelerator": "GPU"
  },
  "cells": [
    {
      "cell_type": "code",
      "source": [
        "!pip install -q --upgrade torch==2.5.1+cu124 torchvision==0.20.1+cu124 torchaudio==2.5.1+cu124 --index-url https://download.pytorch.org/whl/cu124\n",
        "!pip install -q requests bitsandbytes==0.46.0 transformers==4.48.3 accelerate==1.3.0\n",
        "!pip install transformers soundfile"
      ],
      "metadata": {
        "id": "_n2lgHu2vF2v",
        "colab": {
          "base_uri": "https://localhost:8080/"
        },
        "outputId": "30f20335-0d97-41bf-c312-7568e938760f"
      },
      "execution_count": null,
      "outputs": [
        {
          "output_type": "stream",
          "name": "stdout",
          "text": [
            "\u001b[2K     \u001b[90m━━━━━━━━━━━━━━━━━━━━━━━━━━━━━━━━━━━━━━━\u001b[0m \u001b[32m908.2/908.2 MB\u001b[0m \u001b[31m1.2 MB/s\u001b[0m eta \u001b[36m0:00:00\u001b[0m\n",
            "\u001b[2K     \u001b[90m━━━━━━━━━━━━━━━━━━━━━━━━━━━━━━━━━━━━━━━━\u001b[0m \u001b[32m7.3/7.3 MB\u001b[0m \u001b[31m54.0 MB/s\u001b[0m eta \u001b[36m0:00:00\u001b[0m\n",
            "\u001b[2K     \u001b[90m━━━━━━━━━━━━━━━━━━━━━━━━━━━━━━━━━━━━━━━━\u001b[0m \u001b[32m3.4/3.4 MB\u001b[0m \u001b[31m82.5 MB/s\u001b[0m eta \u001b[36m0:00:00\u001b[0m\n",
            "\u001b[2K     \u001b[90m━━━━━━━━━━━━━━━━━━━━━━━━━━━━━━━━━━━━━━━━\u001b[0m \u001b[32m24.6/24.6 MB\u001b[0m \u001b[31m81.6 MB/s\u001b[0m eta \u001b[36m0:00:00\u001b[0m\n",
            "\u001b[2K     \u001b[90m━━━━━━━━━━━━━━━━━━━━━━━━━━━━━━━━━━━━━━\u001b[0m \u001b[32m883.7/883.7 kB\u001b[0m \u001b[31m51.1 MB/s\u001b[0m eta \u001b[36m0:00:00\u001b[0m\n",
            "\u001b[2K     \u001b[90m━━━━━━━━━━━━━━━━━━━━━━━━━━━━━━━━━━━━━━━━\u001b[0m \u001b[32m13.8/13.8 MB\u001b[0m \u001b[31m93.2 MB/s\u001b[0m eta \u001b[36m0:00:00\u001b[0m\n",
            "\u001b[2K     \u001b[90m━━━━━━━━━━━━━━━━━━━━━━━━━━━━━━━━━━━━━\u001b[0m \u001b[32m664.8/664.8 MB\u001b[0m \u001b[31m850.8 kB/s\u001b[0m eta \u001b[36m0:00:00\u001b[0m\n",
            "\u001b[2K     \u001b[90m━━━━━━━━━━━━━━━━━━━━━━━━━━━━━━━━━━━━━━━\u001b[0m \u001b[32m363.4/363.4 MB\u001b[0m \u001b[31m4.6 MB/s\u001b[0m eta \u001b[36m0:00:00\u001b[0m\n",
            "\u001b[2K     \u001b[90m━━━━━━━━━━━━━━━━━━━━━━━━━━━━━━━━━━━━━━━\u001b[0m \u001b[32m211.5/211.5 MB\u001b[0m \u001b[31m5.8 MB/s\u001b[0m eta \u001b[36m0:00:00\u001b[0m\n",
            "\u001b[2K     \u001b[90m━━━━━━━━━━━━━━━━━━━━━━━━━━━━━━━━━━━━━━━━\u001b[0m \u001b[32m56.3/56.3 MB\u001b[0m \u001b[31m15.1 MB/s\u001b[0m eta \u001b[36m0:00:00\u001b[0m\n",
            "\u001b[2K     \u001b[90m━━━━━━━━━━━━━━━━━━━━━━━━━━━━━━━━━━━━━━━\u001b[0m \u001b[32m127.9/127.9 MB\u001b[0m \u001b[31m8.9 MB/s\u001b[0m eta \u001b[36m0:00:00\u001b[0m\n",
            "\u001b[2K     \u001b[90m━━━━━━━━━━━━━━━━━━━━━━━━━━━━━━━━━━━━━━━\u001b[0m \u001b[32m207.5/207.5 MB\u001b[0m \u001b[31m6.0 MB/s\u001b[0m eta \u001b[36m0:00:00\u001b[0m\n",
            "\u001b[2K     \u001b[90m━━━━━━━━━━━━━━━━━━━━━━━━━━━━━━━━━━━━━━━\u001b[0m \u001b[32m188.7/188.7 MB\u001b[0m \u001b[31m6.4 MB/s\u001b[0m eta \u001b[36m0:00:00\u001b[0m\n",
            "\u001b[2K     \u001b[90m━━━━━━━━━━━━━━━━━━━━━━━━━━━━━━━━━━━━━━━━\u001b[0m \u001b[32m99.1/99.1 kB\u001b[0m \u001b[31m10.2 MB/s\u001b[0m eta \u001b[36m0:00:00\u001b[0m\n",
            "\u001b[2K     \u001b[90m━━━━━━━━━━━━━━━━━━━━━━━━━━━━━━━━━━━━━━━\u001b[0m \u001b[32m21.1/21.1 MB\u001b[0m \u001b[31m111.1 MB/s\u001b[0m eta \u001b[36m0:00:00\u001b[0m\n",
            "\u001b[2K     \u001b[90m━━━━━━━━━━━━━━━━━━━━━━━━━━━━━━━━━━━━━━━\u001b[0m \u001b[32m209.6/209.6 MB\u001b[0m \u001b[31m5.3 MB/s\u001b[0m eta \u001b[36m0:00:00\u001b[0m\n",
            "\u001b[2K     \u001b[90m━━━━━━━━━━━━━━━━━━━━━━━━━━━━━━━━━━━━━━━━\u001b[0m \u001b[32m6.2/6.2 MB\u001b[0m \u001b[31m102.1 MB/s\u001b[0m eta \u001b[36m0:00:00\u001b[0m\n",
            "\u001b[2K     \u001b[90m━━━━━━━━━━━━━━━━━━━━━━━━━━━━━━━━━━━━━━━━\u001b[0m \u001b[32m44.4/44.4 kB\u001b[0m \u001b[31m1.9 MB/s\u001b[0m eta \u001b[36m0:00:00\u001b[0m\n",
            "\u001b[2K   \u001b[90m━━━━━━━━━━━━━━━━━━━━━━━━━━━━━━━━━━━━━━━━\u001b[0m \u001b[32m67.0/67.0 MB\u001b[0m \u001b[31m13.0 MB/s\u001b[0m eta \u001b[36m0:00:00\u001b[0m\n",
            "\u001b[2K   \u001b[90m━━━━━━━━━━━━━━━━━━━━━━━━━━━━━━━━━━━━━━━━\u001b[0m \u001b[32m9.7/9.7 MB\u001b[0m \u001b[31m127.3 MB/s\u001b[0m eta \u001b[36m0:00:00\u001b[0m\n",
            "\u001b[2K   \u001b[90m━━━━━━━━━━━━━━━━━━━━━━━━━━━━━━━━━━━━━━━━\u001b[0m \u001b[32m336.6/336.6 kB\u001b[0m \u001b[31m30.6 MB/s\u001b[0m eta \u001b[36m0:00:00\u001b[0m\n",
            "\u001b[2K   \u001b[90m━━━━━━━━━━━━━━━━━━━━━━━━━━━━━━━━━━━━━━━━\u001b[0m \u001b[32m3.1/3.1 MB\u001b[0m \u001b[31m94.6 MB/s\u001b[0m eta \u001b[36m0:00:00\u001b[0m\n",
            "\u001b[?25hRequirement already satisfied: transformers in /usr/local/lib/python3.12/dist-packages (4.48.3)\n",
            "Requirement already satisfied: soundfile in /usr/local/lib/python3.12/dist-packages (0.13.1)\n",
            "Requirement already satisfied: filelock in /usr/local/lib/python3.12/dist-packages (from transformers) (3.19.1)\n",
            "Requirement already satisfied: huggingface-hub<1.0,>=0.24.0 in /usr/local/lib/python3.12/dist-packages (from transformers) (0.35.0)\n",
            "Requirement already satisfied: numpy>=1.17 in /usr/local/lib/python3.12/dist-packages (from transformers) (2.0.2)\n",
            "Requirement already satisfied: packaging>=20.0 in /usr/local/lib/python3.12/dist-packages (from transformers) (25.0)\n",
            "Requirement already satisfied: pyyaml>=5.1 in /usr/local/lib/python3.12/dist-packages (from transformers) (6.0.2)\n",
            "Requirement already satisfied: regex!=2019.12.17 in /usr/local/lib/python3.12/dist-packages (from transformers) (2024.11.6)\n",
            "Requirement already satisfied: requests in /usr/local/lib/python3.12/dist-packages (from transformers) (2.32.4)\n",
            "Requirement already satisfied: tokenizers<0.22,>=0.21 in /usr/local/lib/python3.12/dist-packages (from transformers) (0.21.4)\n",
            "Requirement already satisfied: safetensors>=0.4.1 in /usr/local/lib/python3.12/dist-packages (from transformers) (0.6.2)\n",
            "Requirement already satisfied: tqdm>=4.27 in /usr/local/lib/python3.12/dist-packages (from transformers) (4.67.1)\n",
            "Requirement already satisfied: cffi>=1.0 in /usr/local/lib/python3.12/dist-packages (from soundfile) (2.0.0)\n",
            "Requirement already satisfied: pycparser in /usr/local/lib/python3.12/dist-packages (from cffi>=1.0->soundfile) (2.23)\n",
            "Requirement already satisfied: fsspec>=2023.5.0 in /usr/local/lib/python3.12/dist-packages (from huggingface-hub<1.0,>=0.24.0->transformers) (2025.3.0)\n",
            "Requirement already satisfied: typing-extensions>=3.7.4.3 in /usr/local/lib/python3.12/dist-packages (from huggingface-hub<1.0,>=0.24.0->transformers) (4.15.0)\n",
            "Requirement already satisfied: hf-xet<2.0.0,>=1.1.3 in /usr/local/lib/python3.12/dist-packages (from huggingface-hub<1.0,>=0.24.0->transformers) (1.1.10)\n",
            "Requirement already satisfied: charset_normalizer<4,>=2 in /usr/local/lib/python3.12/dist-packages (from requests->transformers) (3.4.3)\n",
            "Requirement already satisfied: idna<4,>=2.5 in /usr/local/lib/python3.12/dist-packages (from requests->transformers) (3.10)\n",
            "Requirement already satisfied: urllib3<3,>=1.21.1 in /usr/local/lib/python3.12/dist-packages (from requests->transformers) (2.5.0)\n",
            "Requirement already satisfied: certifi>=2017.4.17 in /usr/local/lib/python3.12/dist-packages (from requests->transformers) (2025.8.3)\n"
          ]
        }
      ]
    },
    {
      "cell_type": "code",
      "source": [
        "from transformers import pipeline\n",
        "import soundfile as sf\n",
        "import numpy as np\n",
        "from transformers import pipeline\n",
        "import soundfile as sf, os, tempfile\n",
        "from IPython.display import Audio\n",
        "\n",
        "from google.colab import userdata\n",
        "from huggingface_hub import login\n",
        "from transformers import AutoTokenizer, AutoModelForCausalLM, TextStreamer, BitsAndBytesConfig\n",
        "import torch\n",
        "import gc\n",
        "from IPython.display import Markdown, display, update_display\n",
        "import gradio as gr\n",
        "import random\n",
        "import tempfile, os\n",
        "\n"
      ],
      "metadata": {
        "id": "I9sCQQKhh9yA"
      },
      "execution_count": null,
      "outputs": []
    },
    {
      "cell_type": "code",
      "source": [
        "hf_token = userdata.get('HF_TOKEN')\n",
        "login(hf_token, add_to_git_credential=True)\n",
        "\n",
        "MODELS = {\n",
        "    'enthusiastic': 'microsoft/Phi-3-mini-4k-instruct',\n",
        "    'balanced': 'meta-llama/Meta-Llama-3.1-8B-Instruct',\n",
        "    'casual': 'google/gemma-2-2b-it'\n",
        "}\n",
        "\n",
        "# load once (outside gradio_stream to save time)\n",
        "tts_pipe = pipeline(\"text-to-speech\", model=\"facebook/mms-tts-eng\", device=\"cpu\")\n",
        "\n",
        "def create_review_prompt(product_name, category, star_rating, review_style):\n",
        "  \"\"\"Create different prompts based on review style\"\"\"\n",
        "  if review_style == 'enthusiatic':\n",
        "    system_msg = \"You are an excited customer who loves sharing detailed positive experiences.\"\n",
        "    user_msg = f\"Write an {review_style} {star_rating}-star review for {product_name} ({category}). Be specific about features you loved. Keep under 100 words.\"\n",
        "\n",
        "  elif review_style == 'balanced':\n",
        "    system_msg = \"You are a thoughtful reviewer who gives honest, balanced feedback.\"\n",
        "    user_msg = f\"Write a {star_rating}-star review for {product_name} ({category}). Include pros and cons. Be helpful and honest. Keep under 100 words.\"\n",
        "\n",
        "  else:\n",
        "    system_msg = \"You are a casual reviewer who writes short, informal reviews.\"\n",
        "    user_msg = f\"Write a brief {star_rating}-star review for {product_name} ({category}). Use casual language like texting a friend. Keep under 50 words.\"\n",
        "\n",
        "  return system_msg, user_msg\n",
        "\n",
        "\n",
        "\n",
        "quant_config = BitsAndBytesConfig(\n",
        "    load_in_4bit=True,\n",
        "    bnb_4bit_use_double_quant=True,\n",
        "    bnb_4bit_compute_dtype=torch.bfloat16,\n",
        "    bnb_4bit_quant_type=\"nf4\"\n",
        ")\n",
        "\n",
        "\n",
        "def load_model(model_name):\n",
        "  model_path = MODELS[model_name]\n",
        "  tokenizer = AutoTokenizer.from_pretrained(model_path)\n",
        "  tokenizer.pad_token = tokenizer.eos_token\n",
        "\n",
        "  model = AutoModelForCausalLM.from_pretrained(\n",
        "      model_path,\n",
        "      device_map = \"auto\",\n",
        "      quantization_config=quant_config\n",
        "      )\n",
        "  return model, tokenizer\n",
        "\n",
        "\n",
        "def stream_review(product_name, category, star_rating, review_style):\n",
        "    \"\"\"Generate one review using specified model\"\"\"\n",
        "\n",
        "    model, tokenizer = load_model(review_style)\n",
        "\n",
        "    system_msg, user_msg = create_review_prompt(product_name, category, star_rating, review_style)\n",
        "\n",
        "    messages = [\n",
        "    {\"role\": \"system\", \"content\": system_msg},\n",
        "    {\"role\": \"user\", \"content\": user_msg}\n",
        "     ]\n",
        "\n",
        "    inputs = tokenizer.apply_chat_template(\n",
        "        messages,\n",
        "        return_tensors=\"pt\",\n",
        "        padding=True,\n",
        "        add_generation_prompt=True,\n",
        "        truncation=True\n",
        "        ).to(\"cuda\")\n",
        "\n",
        "\n",
        "    generated_ids = model.generate(\n",
        "        inputs,\n",
        "        max_new_tokens=150,\n",
        "        temperature=0.7,\n",
        "        do_sample=True\n",
        "        )\n",
        "\n",
        "    new_tokens = generated_ids[0][inputs.shape[1]:]\n",
        "    partial_text = \"\"\n",
        "\n",
        "\n",
        "    for i in range(len(new_tokens)):\n",
        "      token_slice = new_tokens[: i+1]\n",
        "      partial_text = tokenizer.decode(token_slice, skip_special_tokens=True)\n",
        "      yield partial_text.strip()\n",
        "\n",
        "\n",
        "    # del model, tokenizer, inputs, generated_ids\n",
        "    # torch.cuda.empty_cache()\n",
        "\n"
      ],
      "metadata": {
        "id": "3_-BG8dlgKx1",
        "colab": {
          "base_uri": "https://localhost:8080/",
          "height": 195,
          "referenced_widgets": [
            "52e42176479c4de187743b62b5baf60e",
            "3faf09aa4c1c47c9baa661649ae7fbf0",
            "53ad72974cc34c44b00d14cea8fbd190",
            "294b0f7288134e61a2477df5c7b35a15",
            "d990e84199204a3e8aa9c68aedb491b4",
            "215b27ae6f3a4bec9214b960f2573317",
            "8fd2ae93111442e99a5f79aeb03010ef",
            "9d73b54767aa45afbd3c7d9919bff964",
            "dbeb2ba7131b49f4b4b4135aadec04b2",
            "dc5533043f6147c8bb958ee01200e269",
            "443abf76bff74de2adedcd667828da1c",
            "c35f8305713a4f8390e5b01ad9b11f5d",
            "53549a9347304bb3bef56eb469140d39",
            "7cd66950b7e748dd9cbcb50f6ffe44b7",
            "b6394bcce7a349f7aced0d0760ca4e5b",
            "8248f6775ef24cc88e3b796fe25aef03",
            "10ed12aa505a481aa8439d95405a769b",
            "b6d72862df6d41feaa812b37510acf97",
            "0357772a05ee44fc831ed0fcd04fc599",
            "4c3659923f364d4d82fba3e691b1eb6a",
            "145e1e79892545ca9291cb4d5927e8e2",
            "128fa944fbf04b2aa0453d74b9a8fa26",
            "7478ff4d22b84b6782219c71988293fd",
            "e9d1eeac2d8b4374984c13a5a6dabdc9",
            "6bf0b2b24e274e5f9fe48d55c8591aa8",
            "4e81b4ba8e72400294057f7c22d771b6",
            "40a38e6d1b3147f4bc35075d692655d1",
            "805f7d9122a64f56a2ee9704f6574839",
            "95519c807f564ec696cfc8b4dd1e99cc",
            "ecdb256744a54e78b25c800a9ea4d163",
            "28bdb9975e1c48e48483d4c0a8a835ee",
            "989eb08c7ee24c39a4cd012aa04d7bb2",
            "7ce160da1f674f5e97fba57ce3316ab0",
            "7bcaa483a88147009fea32a4f133bd2b",
            "fba927eb29b64390b3d0d7efe26a2493",
            "3a608845fde5457a865bafa2fbd7877b",
            "2dd93c64b40140b6b0603303671f612d",
            "623a3a93e56745e78277077d0b76383c",
            "b174f2f40c5d44dd814f8ac81b59022c",
            "487fcf5f45ce4a4ea84e7666b10fa807",
            "7465160460af4b8cb02b09c93531640a",
            "cd2f5eebe01c41dea327653c27809d34",
            "24f28b991ee94636bdf1f5ef13f2964a",
            "a3fa6785a0304e53963c9e17d7c433c2",
            "7134f7d60e0c445ba730acd6df65dd95",
            "569c54e4a282457f90dfecea3779b9be",
            "a854391e6ea44ee58878fb465f58c1f9",
            "b227c17933ae461ab7bf31b3114130bf",
            "e2fc57e15e8d4201b1c315d4c0998579",
            "70f5c66ef3674b5ab442d2ab0f3fa14d",
            "50125ac7857a4bfc97171a7d346bfd13",
            "4df971b17a0347dfa88f9b6ede00919e",
            "f484b90bf3274eeb9ff2ef17c082ede5",
            "a3fa605b7ca5437e812704ab28e35006",
            "995fd90b6c064a0b805f210fb42e35fb"
          ]
        },
        "outputId": "988a9b93-c1d6-4f21-8377-99529279050b"
      },
      "execution_count": null,
      "outputs": [
        {
          "output_type": "display_data",
          "data": {
            "text/plain": [
              "config.json: 0.00B [00:00, ?B/s]"
            ],
            "application/vnd.jupyter.widget-view+json": {
              "version_major": 2,
              "version_minor": 0,
              "model_id": "52e42176479c4de187743b62b5baf60e"
            }
          },
          "metadata": {}
        },
        {
          "output_type": "display_data",
          "data": {
            "text/plain": [
              "model.safetensors:   0%|          | 0.00/145M [00:00<?, ?B/s]"
            ],
            "application/vnd.jupyter.widget-view+json": {
              "version_major": 2,
              "version_minor": 0,
              "model_id": "c35f8305713a4f8390e5b01ad9b11f5d"
            }
          },
          "metadata": {}
        },
        {
          "output_type": "display_data",
          "data": {
            "text/plain": [
              "tokenizer_config.json:   0%|          | 0.00/287 [00:00<?, ?B/s]"
            ],
            "application/vnd.jupyter.widget-view+json": {
              "version_major": 2,
              "version_minor": 0,
              "model_id": "7478ff4d22b84b6782219c71988293fd"
            }
          },
          "metadata": {}
        },
        {
          "output_type": "display_data",
          "data": {
            "text/plain": [
              "vocab.json:   0%|          | 0.00/413 [00:00<?, ?B/s]"
            ],
            "application/vnd.jupyter.widget-view+json": {
              "version_major": 2,
              "version_minor": 0,
              "model_id": "7bcaa483a88147009fea32a4f133bd2b"
            }
          },
          "metadata": {}
        },
        {
          "output_type": "display_data",
          "data": {
            "text/plain": [
              "special_tokens_map.json:   0%|          | 0.00/47.0 [00:00<?, ?B/s]"
            ],
            "application/vnd.jupyter.widget-view+json": {
              "version_major": 2,
              "version_minor": 0,
              "model_id": "7134f7d60e0c445ba730acd6df65dd95"
            }
          },
          "metadata": {}
        },
        {
          "output_type": "stream",
          "name": "stderr",
          "text": [
            "Device set to use cpu\n"
          ]
        }
      ]
    },
    {
      "cell_type": "code",
      "source": [
        "\n",
        "def text_to_speech(text: str):\n",
        "    # Run the TTS model\n",
        "    speech = tts_pipe(text)\n",
        "\n",
        "    # Ensure audio is 1D\n",
        "    audio = np.array(speech[\"audio\"]).squeeze()\n",
        "\n",
        "    # Save as 16-bit PCM WAV\n",
        "    tmp_wav = os.path.join(tempfile.gettempdir(), \"review.wav\")\n",
        "    sf.write(tmp_wav, audio, speech[\"sampling_rate\"], subtype=\"PCM_16\")\n",
        "    return tmp_wav\n"
      ],
      "metadata": {
        "id": "ZN23gRIhid_B"
      },
      "execution_count": null,
      "outputs": []
    },
    {
      "cell_type": "code",
      "source": [
        "def gradio_stream(product_name, category, num_reviews, include_ratings):\n",
        "    \"\"\"Main function called by Gradio interface\"\"\"\n",
        "\n",
        "    if not product_name.strip():\n",
        "      yield \"Pleasee enter a product name!\", None\n",
        "      return\n",
        "\n",
        "    styles = ['enthusiastic', 'balanced', 'casual']\n",
        "    all_reviews = \"\"\n",
        "    final_audio = None\n",
        "\n",
        "    for i in range(int(num_reviews)):\n",
        "      if include_ratings:\n",
        "        star_rating = random.choices([5, 4, 3, 2, 1], weights=[40, 30, 15, 10, 5])[0]\n",
        "      else:\n",
        "        star_rating = random.choices([5, 4, 3], weights=[50, 30, 20])[0]\n",
        "\n",
        "      style = styles[i % len(styles)]\n",
        "      stars = \"⭐\" * star_rating\n",
        "\n",
        "      try:\n",
        "        review_text = \"\"\n",
        "        for chunk in stream_review(product_name, category, star_rating, style):\n",
        "          review_text = chunk\n",
        "          current_entry = f\"{stars} ({star_rating}/5)\\n{review_text}\\n\"\n",
        "          if all_reviews:\n",
        "            yield all_reviews + \"\\n\" + \"=\"*50 + \"\\n\" + current_entry, None\n",
        "          else:\n",
        "            yield current_entry, None\n",
        "\n",
        "        if all_reviews:\n",
        "          all_reviews += \"\\n\" + \"=\"*50 + \"\\n\" + current_entry\n",
        "        else:\n",
        "          all_reviews = current_entry\n",
        "\n",
        "      except Exception as e:\n",
        "        error_msg = f\"❌ Error: {str(e)}\"\n",
        "        all_reviews += f\"\\n{error_msg}\\n\"\n",
        "        yield all_reviews, None\n",
        "\n",
        "\n",
        "      if all_reviews.strip():\n",
        "        tmp_wav = text_to_speech(all_reviews)\n",
        "        yield all_reviews, tmp_wav\n",
        "      else:\n",
        "        yield \"❌ No review generated\", None\n",
        "\n"
      ],
      "metadata": {
        "id": "zHijI-fNvs4P"
      },
      "execution_count": null,
      "outputs": []
    },
    {
      "cell_type": "code",
      "source": [
        "\n",
        "# Sample products for testing\n",
        "sample_products = [\n",
        "    \"WiFi-enabled Smart Toaster\",\n",
        "    \"Self-Stirring Coffee Mug\",\n",
        "    \"Bluetooth Shower Curtain\",\n",
        "    \"AI-Powered Houseplant\",\n",
        "    \"Voice-Activated Umbrella\"\n",
        "]\n",
        "\n",
        "\n",
        "with gr.Blocks(css=\"\"\"\n",
        "    .gr-box {border-radius: 10px;}\n",
        "    .gr-button {background: linear-gradient(90deg, #4F46E5, #6366F1); color: white;}\n",
        "    .gr-button:hover {opacity: 0.9;}\n",
        "\"\"\") as demo:\n",
        "\n",
        "    gr.Markdown(\n",
        "        \"<h1 style='text-align:center;'>🌟 AI Review Generator</h1>\"\n",
        "        \"<p style='text-align:center;'>Generate realistic product reviews using multiple AI models.<br>\"\n",
        "        \"Perfect for testing e-commerce sites!</p>\"\n",
        "    )\n",
        "\n",
        "    with gr.Row():\n",
        "        # Left column (inputs)\n",
        "        with gr.Column(scale=1):\n",
        "            # gr.Markdown(\"### ✍️ Input\")\n",
        "            product = gr.Textbox(\n",
        "                label=\"Product Name\",\n",
        "                placeholder=\"Enter any product name...\",\n",
        "                value=\"Smart Bluetooth Toothbrush\"\n",
        "            )\n",
        "\n",
        "            category = gr.Dropdown(\n",
        "                choices=[\"Electronics\", \"Home & Garden\", \"Books\", \"Clothing\", \"Food & Drink\", \"Sports\", \"Toys\", \"Other\"],\n",
        "                label=\"Product Category\",\n",
        "                value=\"Electronics\"\n",
        "            )\n",
        "\n",
        "            num_reviews = gr.Slider(\n",
        "                minimum=1, maximum=5, value=3, step=1,\n",
        "                label=\"Number of Reviews\"\n",
        "            )\n",
        "\n",
        "            include_negative = gr.Checkbox(\n",
        "                label=\"Include negative reviews (1-2 stars)\", value=False\n",
        "            )\n",
        "\n",
        "            generate_btn = gr.Button(\"Generate Reviews\")\n",
        "\n",
        "        # Right column (outputs)\n",
        "        with gr.Column(scale=1):\n",
        "            # gr.Markdown(\"### 📤 Output\")\n",
        "            out_text = gr.Textbox(\n",
        "                label=\"Generated Reviews\",\n",
        "                lines=15,\n",
        "                placeholder=\"Generated reviews will appear here...\"\n",
        "            )\n",
        "            out_audio = gr.Audio(label=\"Audio Review\")\n",
        "\n",
        "    # Examples across both columns\n",
        "    # gr.Markdown(\"### 💡 Examples\")\n",
        "    gr.Examples(\n",
        "        examples=[\n",
        "            [\"WiFi-enabled Smart Toaster\", \"Electronics\", 3, False],\n",
        "            [\"Self-Stirring Coffee Mug\", \"Home & Garden\", 4, True],\n",
        "            [\"AI-Powered Houseplant\", \"Home & Garden\", 2, False]\n",
        "        ],\n",
        "        inputs=[product, category, num_reviews, include_negative]\n",
        "    )\n",
        "\n",
        "    # Button action\n",
        "    generate_btn.click(\n",
        "        fn=gradio_stream,\n",
        "        inputs=[product, category, num_reviews, include_negative],\n",
        "        outputs=[out_text, out_audio]\n",
        "    )\n",
        "\n",
        "\n",
        "# Launch\n",
        "if __name__ == \"__main__\":\n",
        "    demo.launch(debug=True, share=True)\n"
      ],
      "metadata": {
        "id": "GgO8QEVQozZC",
        "colab": {
          "base_uri": "https://localhost:8080/",
          "height": 1000,
          "referenced_widgets": [
            "2e7c5dcd8c6042e2afe30672e24ffb8b",
            "cc5e1ee0daf440c6a55e040c3d257f87",
            "81cf339ce04a47b982c24fb70751ba1a",
            "06688ed475d04fd0bea77bdd8eb5fe37",
            "6170234a3dd54a4a83c8f2d4680c6e01",
            "caca3e3bfec64ab394c44aba42a6b63c",
            "64c8308aa0e14f89b6a3f246c8890796",
            "09d3849fe2dc49f09605b4f404c72c6c",
            "b48fe8a272a54f92a9747e056d7fd3ce",
            "bf68c5a7d79c4a81acc9956d7e4472d8",
            "6f0f47d61673446a936957c31ddb603e",
            "1411c0887f614465b67796f0dbeea1af",
            "ac9aefa5415c432cbcb4c2e2d094d2fd",
            "cf2b2055c56640dd84cd4d9857cb5938",
            "8d3976ba26794fb2bc5aac1f0c4b42e7",
            "ea942460d460435f820ff671009b1945",
            "756aea7d36a945c78b60d850f1282a84",
            "9700fdd4c3a740849a865e0c10369fa1",
            "6050189763d640d89add2b75f8004a24",
            "f047c4f77e784898a3868589ff097b2e",
            "e33f06450b13427aa99c75e1032bb82f",
            "430709327cf746769b3e14b2e8ee8165",
            "7e130133d96743dda8b0e7b67f656d3b",
            "09444db804724b76b32f05dc67ca4ceb",
            "61eb2c32751640db94a46e9805c40099",
            "a481ab05fb494eccbe20d654a914dbc1",
            "ee2206c6a94846409c5da11631509532",
            "c0c9a9672cf74db7a809f9dbe611b6b0",
            "24a4c9a9f2354d86b376ce589f9bd075",
            "3d6069a8401b42b7b23b27239e407785",
            "cb2431260a5042fba1076bfa4bf27f4c",
            "db911d1faaac4fbeab92a21a0598226b",
            "c31be7bf8be84436a6d853c8b57f05d0",
            "436ae49985f0429db7fc64f5f3bf1f55",
            "b0f0a437dadd4eb38d459f4f746101e5",
            "eaecec5df0b54fac919ae34469871bb6",
            "a0dd084f2bf3475e89a9fa371997e010",
            "a0ce0bce2bc549719f96f33c5556d197",
            "1ddcbba8cf1c4c508b9e8ed073371c2f",
            "c510b0e5d764469786280705d85a100a",
            "575db28d766f478ebabf8d3724028697",
            "9b85b2521b824c989b29877618a92046",
            "c4c5cb8205d44069ad2a5c7d1dd8d9ff",
            "25c04a41979e470f8dfd2aeee4289e5d",
            "53820617bbc0443ab364390282715370",
            "aeb845e332c94c92b902fa9776623c57",
            "6c2d4c85e34248a8b23c16b69423d436",
            "80ccf09b854041e18e97c0ade78449ed",
            "85d63f86e215482bb1bd31c1df5743b7",
            "3202ac58f371495281f840d453ed3454",
            "6603bbb7adaa461aa386e16362739c4e",
            "7ec5d9630f1e4ce0812916abeae9d614",
            "d59b7c0608ba4f57a1ea062cf3db2f40",
            "c34500a02f69460eb1ea94f849cfb969",
            "fe9851ee22c34971b7e4031c75ccb0bd",
            "4a5a562130e848ce97cfe2c95204b1d8",
            "33b94d5559284867a0ed1784c135c3aa",
            "3a1c5fe318b34ea9a1acd8bed18d8b64",
            "bc8ed287379b473d937655b6ebe4dea6",
            "517a2dac03be46ad98afbb765a7fee36",
            "f38b99880fb947b7bcb006d1bd096f10",
            "35b2490a4e2f4803904533db28aa0a71",
            "8c038b21cb7c4c6bb7744c21e7c536d8",
            "1d00946b9d564fdb964b4085e8232739",
            "a99d8546f9814ed28aaaf9f829524bad",
            "07ed0c25550e4ec1822bf9a0ca47a065",
            "6ea22d2e6ba74205a80dfe753f7ec6d0",
            "7b76a5cfc6a048f6a324aa7835481b74",
            "e2a1dbf4a0844521a0bc809d779b16ef",
            "679433731e124a7a9fed0a4cd6eb9c2c",
            "6dc5967699334941a0dfce6af1ac8ef6",
            "eff9b53c23e343adb2bed25ec74f303e",
            "fc379c0e1bfb46f6a38140d2d13b94f0",
            "fbd971369c1442889b59574fda761444",
            "a9d2031c15e946af90e07bfa468c6ba1",
            "45a0776753d34f25b0ed385b27d03e0a",
            "d0c0645aad6e4d69af01f6e2722cc9f5",
            "48ed5d94ea9941d8857ee80be4e5c71c",
            "26392778bfde485bad4970971b9aec24",
            "c2b8d3e8a70444299369d9a073d7a030",
            "4944af91bd944ecaabfb4caae2d5696b",
            "0648221859324cb78c23b95b97379e2b",
            "94242fa908ae4692b76cd7302bf0c35c",
            "d51cd5c3339b4cbca1de05822c04ee51",
            "7586c0b7c4cf494abb02744516259632",
            "4042858abc5c4a1ebc59cc9c10dadfd0",
            "c7bbd32713c54613907b30fd2fe39b62",
            "3bf0d56494054351be4ec2496f589c5f",
            "535fb479e5924e14b173f9e3e0f3a5ff",
            "0d15215cbc7d4c858a73b66b94317a8c",
            "e216e9a5a8ca45b6a5e3c0bd6d8fb029",
            "63e109fca83f4acaa5c4929284f6a868",
            "d3620f2a7ba64b6aa4c48539143c59cc",
            "b12015b0043042f8ba1d927847a694c2",
            "0814225fa496443290b12d27d812792a",
            "5a9f0d7afe0746d09dd4d83ff67df85e",
            "4543c93ab23540818b6e1eacfcd23ea6",
            "fd120b8d2359475c969f11436064f143",
            "3cad59681d724c558fb917a9be570b8f",
            "4f707077f8a04e5e9e8df94679ca54f3",
            "6c5e12080911410aaa0249ffb48706f4",
            "046fe11880de41eda8e0879de6f915e7",
            "dfe7511f717e46d2980c6f717bb8906e",
            "cea2da261fe04c93b6971cf7cabdb3f2",
            "a5581475f0724f759b44b3a1ed7102e3",
            "2dc63a832e6e4a0abc298d13b62961a5",
            "c3039cd05542425881b86822414e285d",
            "b5ee0221a6404f66a895a4c8c7a5d97f",
            "48364271551b48cfb20a4b2fe14851af",
            "6e485b913c7a47a3a324c17037e58a08",
            "ca7f8ba6459e47769edba3f2eb64d7a7",
            "a650cf37782f4b7ebf9d6b205998296d",
            "da0d4e8cfacc49b0810038f9f3104316",
            "fd62ab80a6d542aa8d5158e07be4f907",
            "8e76b0fd5b21415f8e7b2f69c0105da5",
            "5545d3f6a3004066974cb016c5088379",
            "9b6388705e6e4ec2adceee05c70f05dc",
            "edcf09e772444d368bd09f45cc54c6fa",
            "5d365790483f46e9ace55da5e543e7d3",
            "259470a665034ad998bad42f162bc2a8",
            "64388bff8cc94f408234a5c8d5d3e310",
            "a429261c2bbf4ac0adc69d09364382c3",
            "185d841451b3408fb27af4c92fdcb119",
            "1c20f826ea56408d817741cc7a399eeb",
            "200617c9587f44798c46770d82295da3",
            "58b35ed285cd4a419e88241f53b044ff",
            "412969ae0c3b4e2ebca38c00c28d980e",
            "86da5de1337b404083ccbec6d334806a",
            "799d86bafd824346987ae57249bcfd6c",
            "db7d2bf52db14ea3a9addfd17ed7b0d6",
            "1b8e8ca43aed49fda0db11c0d33ac370",
            "94e4713e8aec4fbe933b3ef8341ebf23",
            "97305c63ff494c0c9f4f2ba6907bfb65",
            "c1253f4cfc2947e080771f74c552906a",
            "74bb8307e96a4ae1bacc2021ae6b4419",
            "4e21810dd43048809a1991698fabe956",
            "47ed5c4063a245929544c1769ce99f5f",
            "5c423fd7de8d496da0ac8ff89bf1adfd",
            "173477c721454ef9a8d9763cfbbfc377",
            "cf5c9d16c92f4876adae8cd56bee74dc",
            "038036f0eee94e3880f3f2c59a306aa8",
            "141ffb192a314feeacdd65d120241749",
            "4443ef1766b946db937f0056385306c8",
            "8a8f53ba4599425f867cda52e56ec7b6",
            "17fa0145be554d41b0cf8f70bec0f96a",
            "962a07d478de4cf1aca7262e382fb9d1",
            "87a76d6e33254588a13900c279154c02",
            "be29bb2db4a14749a980dc471e4f93f9",
            "0e97f187d25c4de2a53e294a010d5f65",
            "904393ea8e9249d59ec48dc68b1e056b",
            "f7a02447297147259d66f7d2c0e4cd1f",
            "d58a23970aeb48d4884cee86dc9fc917",
            "22c1d64fecc54d769498de0bf4f7cad9",
            "1f5661d87aae4ee3a5038545e073703b",
            "934b3fee19f645ceb317ae95a1632d8e",
            "a883ce77eb274b5bbc11398492adc0f7",
            "62f229ac943040be948bde7fa54afec5",
            "c0e57003fcf24eba81c8d1989174c2f0",
            "b824aea6ed4c4127ab943da039f62424",
            "466d37c6ea00486e88e1aa19da582263",
            "16aa8caceaa141a3a8e6cafc7ae459aa",
            "c7c54d7beb99479b98e2033fc69bed63",
            "ecc7dd6d002c4da29a02dcd879aa6e5c",
            "26adf04c85ab44588865110424543bf7",
            "bf3631e13ec541d6b3d2ff38124b2807",
            "d64fed88bb824e529b0c0fd89e806928",
            "4284e1d0da2448f8b49272674cfc669c",
            "740300ce5368410285d913187882dcbe",
            "7e4e3d2854a340e297dca8e66faa03a0",
            "8d5bf6e929da40219a0a7b1d8217fcfa",
            "bee00c3d83dd421ea1a3b9fc2a0916d5",
            "38dbad8b661e4013a1eb16fbb5e13dc0",
            "72ece33c05a04f6a909c8bb798906e5c",
            "493905646d3e46168924d5f8cb8900fc",
            "5d85d10e347a4ba4a969c985204218ce",
            "2d1dbc96d8fd402bad1c1aa7a05d780c",
            "fbb11f7cef854983800578e7d784c262",
            "1a437a97f3784f43835dcac9467eb775",
            "d6607c9febd74ff3baa6af03cc45f39d",
            "b2218696dc0a4434865e9bb90a7e4ebd",
            "adb83a77caf54076bcf2167bdfea9b79",
            "10c17bf6ccfa4fb1b6d9660fed508ee2",
            "0f8e2486d3704a038667bac79514aed8",
            "cc166cfc5f8546a3bd08c4eda566e802",
            "5ff567b07b3447df9fa1b216be26a52d",
            "588c4bef6ab74139ba4c3904a9910803",
            "177e1c3fb8d045c3906fa38dfaa28caf",
            "02a4a4a283034ebd94085c3dce3f257e",
            "16a0497f3b4446b4bccb68ca533b6ecf",
            "5730d16fe2404d18ac23927c2ba6862f",
            "aaed2ac2cd354a569e1172a7cd42bb9e",
            "15adcf61db0a429bbece903c912ffc60",
            "2441447cb436472da51b2ae263e631ed",
            "102eb963441a486fa6d7114c42eefccd",
            "77d666a6b14f4f6e8be5ca4546980d7b",
            "8760f5273ba8490ea7e855972987d641",
            "f5db2f6ed0234ba8ba1af20e7073b295",
            "6e70e90685e3499b99d37d0239292975",
            "f9b17d581f9b4a85924d9109df9322f3",
            "13840a0d3dc143859b8baaba89ffbaa7",
            "0d51c29b4caa42ddbdcd5c424bcb2d03",
            "9c2fe2d5b3a34883b375b0c944d12c7c",
            "5afb682dd69645648e1f52bee10b7119",
            "7233ae3c089449d384d3bb4b59107b86",
            "7fa4aebaa6e14584a989378a74a181f2",
            "783a0b0db5824fbc98c85128c4dc6af1",
            "1dc5ff42c911449d91d278a0e2e35006",
            "09eff011ec164ed9ac28ebe0924e9971",
            "014037c900e342f989786083da567ebc",
            "918508b5dfd54ddeacc75fc36bff6fbd",
            "ff842d292a20432c88c0c31aeff35a27",
            "4c34d733f27147579ddedf101be7c578",
            "60eff2bdbcb14a3ea1e5db3727e21005",
            "ecc5a483496d44ce8e1e2c426995e5e0",
            "3ce2e8c86ca0455fb434031b142f9d35",
            "08585960d01b49d9b21b2fb7c583eaa9",
            "73832585430542ad8aa9da553a5bebde",
            "98c6ec5997454c81947a1ec216f8f596",
            "e898c7df3881403ca8fcac54201730b3",
            "0327afb72b5748f980ffb67a83c80a71"
          ]
        },
        "outputId": "c8a89ba1-d46d-424a-a3cd-46b4384493ad"
      },
      "execution_count": null,
      "outputs": [
        {
          "output_type": "stream",
          "name": "stdout",
          "text": [
            "Colab notebook detected. This cell will run indefinitely so that you can see errors and logs. To turn off, set debug=False in launch().\n",
            "* Running on public URL: https://e177ee51ee6c0d8d1f.gradio.live\n",
            "\n",
            "This share link expires in 1 week. For free permanent hosting and GPU upgrades, run `gradio deploy` from the terminal in the working directory to deploy to Hugging Face Spaces (https://huggingface.co/spaces)\n"
          ]
        },
        {
          "output_type": "display_data",
          "data": {
            "text/plain": [
              "<IPython.core.display.HTML object>"
            ],
            "text/html": [
              "<div><iframe src=\"https://e177ee51ee6c0d8d1f.gradio.live\" width=\"100%\" height=\"500\" allow=\"autoplay; camera; microphone; clipboard-read; clipboard-write;\" frameborder=\"0\" allowfullscreen></iframe></div>"
            ]
          },
          "metadata": {}
        },
        {
          "output_type": "display_data",
          "data": {
            "text/plain": [
              "tokenizer_config.json: 0.00B [00:00, ?B/s]"
            ],
            "application/vnd.jupyter.widget-view+json": {
              "version_major": 2,
              "version_minor": 0,
              "model_id": "2e7c5dcd8c6042e2afe30672e24ffb8b"
            }
          },
          "metadata": {}
        },
        {
          "output_type": "display_data",
          "data": {
            "text/plain": [
              "tokenizer.model:   0%|          | 0.00/500k [00:00<?, ?B/s]"
            ],
            "application/vnd.jupyter.widget-view+json": {
              "version_major": 2,
              "version_minor": 0,
              "model_id": "1411c0887f614465b67796f0dbeea1af"
            }
          },
          "metadata": {}
        },
        {
          "output_type": "display_data",
          "data": {
            "text/plain": [
              "tokenizer.json: 0.00B [00:00, ?B/s]"
            ],
            "application/vnd.jupyter.widget-view+json": {
              "version_major": 2,
              "version_minor": 0,
              "model_id": "7e130133d96743dda8b0e7b67f656d3b"
            }
          },
          "metadata": {}
        },
        {
          "output_type": "display_data",
          "data": {
            "text/plain": [
              "added_tokens.json:   0%|          | 0.00/306 [00:00<?, ?B/s]"
            ],
            "application/vnd.jupyter.widget-view+json": {
              "version_major": 2,
              "version_minor": 0,
              "model_id": "436ae49985f0429db7fc64f5f3bf1f55"
            }
          },
          "metadata": {}
        },
        {
          "output_type": "display_data",
          "data": {
            "text/plain": [
              "special_tokens_map.json:   0%|          | 0.00/599 [00:00<?, ?B/s]"
            ],
            "application/vnd.jupyter.widget-view+json": {
              "version_major": 2,
              "version_minor": 0,
              "model_id": "53820617bbc0443ab364390282715370"
            }
          },
          "metadata": {}
        },
        {
          "output_type": "display_data",
          "data": {
            "text/plain": [
              "config.json:   0%|          | 0.00/967 [00:00<?, ?B/s]"
            ],
            "application/vnd.jupyter.widget-view+json": {
              "version_major": 2,
              "version_minor": 0,
              "model_id": "4a5a562130e848ce97cfe2c95204b1d8"
            }
          },
          "metadata": {}
        },
        {
          "output_type": "display_data",
          "data": {
            "text/plain": [
              "model.safetensors.index.json: 0.00B [00:00, ?B/s]"
            ],
            "application/vnd.jupyter.widget-view+json": {
              "version_major": 2,
              "version_minor": 0,
              "model_id": "6ea22d2e6ba74205a80dfe753f7ec6d0"
            }
          },
          "metadata": {}
        },
        {
          "output_type": "display_data",
          "data": {
            "text/plain": [
              "Downloading shards:   0%|          | 0/2 [00:00<?, ?it/s]"
            ],
            "application/vnd.jupyter.widget-view+json": {
              "version_major": 2,
              "version_minor": 0,
              "model_id": "48ed5d94ea9941d8857ee80be4e5c71c"
            }
          },
          "metadata": {}
        },
        {
          "output_type": "display_data",
          "data": {
            "text/plain": [
              "model-00001-of-00002.safetensors:   0%|          | 0.00/4.97G [00:00<?, ?B/s]"
            ],
            "application/vnd.jupyter.widget-view+json": {
              "version_major": 2,
              "version_minor": 0,
              "model_id": "535fb479e5924e14b173f9e3e0f3a5ff"
            }
          },
          "metadata": {}
        },
        {
          "output_type": "display_data",
          "data": {
            "text/plain": [
              "model-00002-of-00002.safetensors:   0%|          | 0.00/2.67G [00:00<?, ?B/s]"
            ],
            "application/vnd.jupyter.widget-view+json": {
              "version_major": 2,
              "version_minor": 0,
              "model_id": "4f707077f8a04e5e9e8df94679ca54f3"
            }
          },
          "metadata": {}
        },
        {
          "output_type": "display_data",
          "data": {
            "text/plain": [
              "Loading checkpoint shards:   0%|          | 0/2 [00:00<?, ?it/s]"
            ],
            "application/vnd.jupyter.widget-view+json": {
              "version_major": 2,
              "version_minor": 0,
              "model_id": "ca7f8ba6459e47769edba3f2eb64d7a7"
            }
          },
          "metadata": {}
        },
        {
          "output_type": "display_data",
          "data": {
            "text/plain": [
              "generation_config.json:   0%|          | 0.00/181 [00:00<?, ?B/s]"
            ],
            "application/vnd.jupyter.widget-view+json": {
              "version_major": 2,
              "version_minor": 0,
              "model_id": "a429261c2bbf4ac0adc69d09364382c3"
            }
          },
          "metadata": {}
        },
        {
          "output_type": "stream",
          "name": "stderr",
          "text": [
            "The attention mask is not set and cannot be inferred from input because pad token is same as eos token. As a consequence, you may observe unexpected behavior. Please pass your input's `attention_mask` to obtain reliable results.\n"
          ]
        },
        {
          "output_type": "display_data",
          "data": {
            "text/plain": [
              "Loading checkpoint shards:   0%|          | 0/2 [00:00<?, ?it/s]"
            ],
            "application/vnd.jupyter.widget-view+json": {
              "version_major": 2,
              "version_minor": 0,
              "model_id": "97305c63ff494c0c9f4f2ba6907bfb65"
            }
          },
          "metadata": {}
        },
        {
          "output_type": "display_data",
          "data": {
            "text/plain": [
              "tokenizer_config.json:   0%|          | 0.00/55.4k [00:00<?, ?B/s]"
            ],
            "application/vnd.jupyter.widget-view+json": {
              "version_major": 2,
              "version_minor": 0,
              "model_id": "8a8f53ba4599425f867cda52e56ec7b6"
            }
          },
          "metadata": {}
        },
        {
          "output_type": "display_data",
          "data": {
            "text/plain": [
              "tokenizer.json:   0%|          | 0.00/9.09M [00:00<?, ?B/s]"
            ],
            "application/vnd.jupyter.widget-view+json": {
              "version_major": 2,
              "version_minor": 0,
              "model_id": "934b3fee19f645ceb317ae95a1632d8e"
            }
          },
          "metadata": {}
        },
        {
          "output_type": "display_data",
          "data": {
            "text/plain": [
              "special_tokens_map.json:   0%|          | 0.00/296 [00:00<?, ?B/s]"
            ],
            "application/vnd.jupyter.widget-view+json": {
              "version_major": 2,
              "version_minor": 0,
              "model_id": "d64fed88bb824e529b0c0fd89e806928"
            }
          },
          "metadata": {}
        },
        {
          "output_type": "display_data",
          "data": {
            "text/plain": [
              "config.json:   0%|          | 0.00/855 [00:00<?, ?B/s]"
            ],
            "application/vnd.jupyter.widget-view+json": {
              "version_major": 2,
              "version_minor": 0,
              "model_id": "fbb11f7cef854983800578e7d784c262"
            }
          },
          "metadata": {}
        },
        {
          "output_type": "display_data",
          "data": {
            "text/plain": [
              "model.safetensors.index.json:   0%|          | 0.00/23.9k [00:00<?, ?B/s]"
            ],
            "application/vnd.jupyter.widget-view+json": {
              "version_major": 2,
              "version_minor": 0,
              "model_id": "02a4a4a283034ebd94085c3dce3f257e"
            }
          },
          "metadata": {}
        },
        {
          "output_type": "display_data",
          "data": {
            "text/plain": [
              "Downloading shards:   0%|          | 0/4 [00:00<?, ?it/s]"
            ],
            "application/vnd.jupyter.widget-view+json": {
              "version_major": 2,
              "version_minor": 0,
              "model_id": "f9b17d581f9b4a85924d9109df9322f3"
            }
          },
          "metadata": {}
        },
        {
          "output_type": "display_data",
          "data": {
            "text/plain": [
              "model-00001-of-00004.safetensors:   0%|          | 0.00/4.98G [00:00<?, ?B/s]"
            ],
            "application/vnd.jupyter.widget-view+json": {
              "version_major": 2,
              "version_minor": 0,
              "model_id": "918508b5dfd54ddeacc75fc36bff6fbd"
            }
          },
          "metadata": {}
        },
        {
          "output_type": "stream",
          "name": "stdout",
          "text": [
            "Keyboard interruption in main thread... closing server.\n",
            "Killing tunnel 127.0.0.1:7860 <> https://e177ee51ee6c0d8d1f.gradio.live\n"
          ]
        }
      ]
    },
    {
      "cell_type": "code",
      "source": [],
      "metadata": {
        "id": "NBFECRmh1WMj"
      },
      "execution_count": null,
      "outputs": []
    }
  ]
}
